{
 "cells": [
  {
   "cell_type": "markdown",
   "id": "fdcf6391-8b1a-4b0d-8a16-b23fb8455d77",
   "metadata": {},
   "source": [
    "Ans 1)"
   ]
  },
  {
   "cell_type": "code",
   "execution_count": null,
   "id": "074c7cad-9f50-47de-bfa8-d3e33860f093",
   "metadata": {},
   "outputs": [],
   "source": [
    "#The keyword used to create a function is typically \"def\" \n",
    "def get_odd_numbers():\n",
    "    odd_numbers = []\n",
    "    for num in range(1, 26):\n",
    "        if num % 2 != 0:\n",
    "            odd_numbers.append(num)\n",
    "    return odd_numbers\n",
    "result = get_odd_numbers()\n",
    "print(result)"
   ]
  },
  {
   "cell_type": "markdown",
   "id": "82c4a287-8cb8-43f3-8ba5-5dbe0b36e7d1",
   "metadata": {},
   "source": [
    "Ans 2)"
   ]
  },
  {
   "cell_type": "code",
   "execution_count": null,
   "id": "d62f29eb-5d07-445e-ba34-a85d954d24e9",
   "metadata": {},
   "outputs": [],
   "source": [
    "#In Python, *args and **kwargs are used as parameters in function definitions to allow the function to accept a variable number of arguments.\n",
    "#Example of arg\n",
    "def sum_numbers(*args):\n",
    "    total = 0\n",
    "    for num in args:\n",
    "        total += num\n",
    "    return total\n",
    "\n",
    "result = sum_numbers(1, 2, 3, 4, 5)\n",
    "print(result)  # Output: 15\n",
    "\n",
    "#Example of Kwargs\n",
    "def print_info(**kwargs):\n",
    "    for key, value in kwargs.items():\n",
    "        print(f\"{key}: {value}\")\n",
    "\n",
    "print_info(name=\"John\", age=25, city=\"New York\")\n"
   ]
  },
  {
   "cell_type": "markdown",
   "id": "e5ebdd0a-acc3-4c6a-8043-dabe62180e77",
   "metadata": {},
   "source": [
    "Ans 3)"
   ]
  },
  {
   "cell_type": "code",
   "execution_count": null,
   "id": "d08f0005-f683-43bb-8d93-567bffa6d03e",
   "metadata": {},
   "outputs": [],
   "source": [
    "# An iterator is an object that implements the iterator protocol, which consists of the __iter__() method for initialization and the __next__() method for iteration. Iterators are used to traverse or iterate over a sequence of elements, such as lists, tuples, or custom-defined objects.\n",
    "#To initialize an iterator object, you can use the iter() function, which calls the __iter__() method on the object. The __iter__() method returns the iterator object itself.\n",
    "\n",
    "#Print first five numbers\n",
    "my_list = [2, 4, 6, 8, 10, 12, 14, 16, 18, 20]\n",
    "my_iterator = iter(my_list)\n",
    "\n",
    "for _ in range(5):\n",
    "    element = next(my_iterator)\n",
    "    print(element)\n",
    "    \n",
    "#Output\n",
    "2\n",
    "4\n",
    "6\n",
    "8\n",
    "10\n"
   ]
  },
  {
   "cell_type": "markdown",
   "id": "88796008-ad64-4824-aee6-25bf9884a472",
   "metadata": {},
   "source": [
    "Ans 4)"
   ]
  },
  {
   "cell_type": "code",
   "execution_count": null,
   "id": "c9517f80-4e41-4261-921a-0acb490d68ab",
   "metadata": {},
   "outputs": [],
   "source": [
    "# A generator function in Python is a special kind of function that returns an iterator object.\n",
    "#It uses the yield keyword instead of return to yield a sequence of values one at a time.\n",
    "#The yield statement suspends the function's execution and returns a value, but allows the function to resume from where it left off when the next value is requested.\n",
    "\n",
    "#Example of generator\n",
    "\n",
    "def even_numbers():\n",
    "    num = 0\n",
    "    while True:\n",
    "        yield num\n",
    "        num += 2\n",
    "\n",
    "even_gen = even_numbers()\n",
    "\n",
    "for _ in range(5):\n",
    "    print(next(even_gen))\n",
    "\n",
    "#output\n",
    "0\n",
    "2\n",
    "4\n",
    "6\n",
    "8\n"
   ]
  },
  {
   "cell_type": "markdown",
   "id": "553b79bd-51d4-4296-b749-66a71b9ec1bc",
   "metadata": {},
   "source": [
    "Ans 5)"
   ]
  },
  {
   "cell_type": "code",
   "execution_count": null,
   "id": "c5b55222-5ec3-4446-9035-6f142b6d3bb9",
   "metadata": {},
   "outputs": [],
   "source": [
    "#Generator function that generates prime numbers less than 1000 and prints the first 20 prime numbers using the next() method:\n",
    "\n",
    "def prime_numbers():\n",
    "    primes = []\n",
    "    num = 2\n",
    "    while True:\n",
    "        if all(num % prime != 0 for prime in primes):\n",
    "            primes.append(num)\n",
    "            yield num\n",
    "        num += 1\n",
    "prime_gen = prime_numbers()\n",
    "for _ in range(20):\n",
    "    print(next(prime_gen))\n",
    "\n",
    "#output \n",
    "2\n",
    "3\n",
    "5\n",
    "7\n",
    "11\n",
    "13\n",
    "17\n",
    "19\n",
    "23\n",
    "29\n",
    "31\n",
    "37\n",
    "41\n",
    "43\n",
    "47\n",
    "53\n",
    "59\n",
    "61\n",
    "67\n",
    "71\n"
   ]
  },
  {
   "cell_type": "markdown",
   "id": "214d325a-d0e7-4288-b47a-f98c8d46b92b",
   "metadata": {},
   "source": [
    "Ans 6)"
   ]
  },
  {
   "cell_type": "code",
   "execution_count": null,
   "id": "51c4d939-6aef-49e8-9762-54ff13eef298",
   "metadata": {},
   "outputs": [],
   "source": [
    "#  Python program that prints the first 10 Fibonacci numbers using a while loop:\n",
    "\n",
    "def print_fibonacci():\n",
    "    count = 0\n",
    "    a, b = 0, 1\n",
    "\n",
    "    while count < 10:\n",
    "        print(a)\n",
    "        a, b = b, a + b\n",
    "        count += 1\n",
    "print_fibonacci()\n",
    "\n",
    "#output\n",
    "0\n",
    "1\n",
    "1\n",
    "2\n",
    "3\n",
    "5\n",
    "8\n",
    "13\n",
    "21\n",
    "34\n"
   ]
  },
  {
   "cell_type": "markdown",
   "id": "e2d5cfb5-ded9-4579-9686-09d27ac447b7",
   "metadata": {},
   "source": [
    "Ans 7)"
   ]
  },
  {
   "cell_type": "code",
   "execution_count": null,
   "id": "f64fbff1-c55e-4359-8be1-6634fb88dda4",
   "metadata": {},
   "outputs": [],
   "source": [
    "# To iterate through the string 'pwskills' using a list comprehension and obtain the expected output ['p', 'w', 's', 'k', 'i', 'l', 'l', 's'], you can use the following code:\n",
    "string = 'pwskills'\n",
    "output = [char for char in string if char in 'pwskills']\n",
    "print(output)\n",
    "\n",
    "#output\n",
    "['p', 'w', 's', 'k', 'i', 'l', 'l', 's']\n"
   ]
  },
  {
   "cell_type": "markdown",
   "id": "182c3427-a9d2-4be7-b1cb-4fc33a7513fd",
   "metadata": {},
   "source": [
    "Ans 8)"
   ]
  },
  {
   "cell_type": "code",
   "execution_count": null,
   "id": "8b0fa2d1-f090-4c1d-836b-f968911c63fc",
   "metadata": {},
   "outputs": [],
   "source": [
    "# Python program to check whether a given number is Palindrome or not using a while loop.\n",
    "def is_palindrome(number):\n",
    "    original_number = number\n",
    "    reverse_number = 0\n",
    "\n",
    "    while number > 0:\n",
    "        remainder = number % 10\n",
    "        reverse_number = (reverse_number * 10) + remainder\n",
    "        number = number // 10\n",
    "\n",
    "    if original_number == reverse_number:\n",
    "        return True\n",
    "    else:\n",
    "        return False\n",
    "\n",
    "\n",
    "number = 12321\n",
    "if is_palindrome(number):\n",
    "    print(f\"{number} is a palindrome.\")\n",
    "else:\n",
    "    print(f\"{number} is not a palindrome.\")\n",
    "\n",
    "#output\n",
    "12321 is a palindrome.\n"
   ]
  },
  {
   "cell_type": "markdown",
   "id": "b351080f-c3cb-4698-91a9-ba9eb9cd5b9b",
   "metadata": {},
   "source": [
    "Ans 9)"
   ]
  },
  {
   "cell_type": "code",
   "execution_count": null,
   "id": "eea2a0ad-2759-4364-8df0-f538069ef271",
   "metadata": {},
   "outputs": [],
   "source": [
    "# List comprehension to create a list from 1 to 100\n",
    "numbers = [num for num in range(1, 101)]\n",
    "\n",
    "# List comprehension to filter out odd numbers\n",
    "odd_numbers = [num for num in numbers if num % 2 != 0]\n",
    "\n",
    "# Print the odd numbers\n",
    "print(odd_numbers)\n",
    "\n",
    "#Output\n",
    "[1, 3, 5, 7, 9, 11, 13, 15, 17, 19, 21, 23, 25, 27, 29, 31, 33, 35, 37, 39, 41, 43, 45, 47, 49, 51, 53, 55, 57, 59, 61, 63, 65, 67, 69, 71, 73, 75, 77, 79, 81, 83, 85, 87, 89, 91, 93, 95, 97, 99]\n"
   ]
  }
 ],
 "metadata": {
  "kernelspec": {
   "display_name": "Python 3 (ipykernel)",
   "language": "python",
   "name": "python3"
  },
  "language_info": {
   "codemirror_mode": {
    "name": "ipython",
    "version": 3
   },
   "file_extension": ".py",
   "mimetype": "text/x-python",
   "name": "python",
   "nbconvert_exporter": "python",
   "pygments_lexer": "ipython3",
   "version": "3.10.8"
  }
 },
 "nbformat": 4,
 "nbformat_minor": 5
}
